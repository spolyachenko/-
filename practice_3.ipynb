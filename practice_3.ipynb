{
 "cells": [
  {
   "cell_type": "code",
   "execution_count": 5,
   "metadata": {},
   "outputs": [],
   "source": [
    "library(lmtest)\n",
    "data = Seatbelts"
   ]
  },
  {
   "cell_type": "code",
   "execution_count": 2,
   "metadata": {},
   "outputs": [
    {
     "data": {
      "text/plain": [
       "\n",
       "Call:\n",
       "lm(formula = front ~ law + PetrolPrice, data = data)\n",
       "\n",
       "Coefficients:\n",
       "(Intercept)          law  PetrolPrice  \n",
       "     1425.8       -223.3      -5422.3  \n"
      ]
     },
     "metadata": {},
     "output_type": "display_data"
    },
    {
     "data": {
      "text/plain": [
       "\n",
       "Call:\n",
       "lm(formula = front ~ law + PetrolPrice, data = data)\n",
       "\n",
       "Residuals:\n",
       "    Min      1Q  Median      3Q     Max \n",
       "-320.77  -87.05    0.08   92.10  388.85 \n",
       "\n",
       "Coefficients:\n",
       "            Estimate Std. Error t value Pr(>|t|)    \n",
       "(Intercept)  1425.84      87.47  16.301  < 2e-16 ***\n",
       "law          -223.27      31.89  -7.000 4.32e-11 ***\n",
       "PetrolPrice -5422.29     852.80  -6.358 1.50e-09 ***\n",
       "---\n",
       "Signif. codes:  0 '***' 0.001 '**' 0.01 '*' 0.05 '.' 0.1 ' ' 1\n",
       "\n",
       "Residual standard error: 132.1 on 189 degrees of freedom\n",
       "Multiple R-squared:  0.4368,\tAdjusted R-squared:  0.4309 \n",
       "F-statistic: 73.29 on 2 and 189 DF,  p-value: < 2.2e-16\n"
      ]
     },
     "metadata": {},
     "output_type": "display_data"
    }
   ],
   "source": [
    "model <- lm(front ~ law +  PetrolPrice, data)\n",
    "model\n",
    "summary(model)"
   ]
  },
  {
   "cell_type": "code",
   "execution_count": 3,
   "metadata": {},
   "outputs": [
    {
     "data": {
      "text/html": [
       "'free coefficient: ( 1253.27917402882 ; 1598.40082597118 )'"
      ],
      "text/latex": [
       "'free coefficient: ( 1253.27917402882 ; 1598.40082597118 )'"
      ],
      "text/markdown": [
       "'free coefficient: ( 1253.27917402882 ; 1598.40082597118 )'"
      ],
      "text/plain": [
       "[1] \"free coefficient: ( 1253.27917402882 ; 1598.40082597118 )\""
      ]
     },
     "metadata": {},
     "output_type": "display_data"
    },
    {
     "data": {
      "text/html": [
       "'law: ( -286.182595635315 ; -160.357404364685 )'"
      ],
      "text/latex": [
       "'law: ( -286.182595635315 ; -160.357404364685 )'"
      ],
      "text/markdown": [
       "'law: ( -286.182595635315 ; -160.357404364685 )'"
      ],
      "text/plain": [
       "[1] \"law: ( -286.182595635315 ; -160.357404364685 )\""
      ]
     },
     "metadata": {},
     "output_type": "display_data"
    },
    {
     "data": {
      "text/html": [
       "'PetrolPrice: ( -7104.69393721531 ; -3739.88606278469 )'"
      ],
      "text/latex": [
       "'PetrolPrice: ( -7104.69393721531 ; -3739.88606278469 )'"
      ],
      "text/markdown": [
       "'PetrolPrice: ( -7104.69393721531 ; -3739.88606278469 )'"
      ],
      "text/plain": [
       "[1] \"PetrolPrice: ( -7104.69393721531 ; -3739.88606278469 )\""
      ]
     },
     "metadata": {},
     "output_type": "display_data"
    }
   ],
   "source": [
    "get_trust_interval <- function(coeff, df_in, std_err) {\n",
    "    t_critical <- qt( 0.975, df_in)\n",
    "    return(list(coeff - std_err * t_critical, coeff + std_err * t_critical))\n",
    "}\n",
    "interval = get_trust_interval(1425.84, 186, 87.47)\n",
    "paste(\"free coefficient: (\", interval[1], \";\", interval[2], \")\")\n",
    "interval = get_trust_interval(-223.27, 186, 31.89)\n",
    "paste(\"law: (\", interval[1], \";\", interval[2], \")\")\n",
    "interval = get_trust_interval(-5422.29, 186, 852.80)\n",
    "paste(\"PetrolPrice: (\", interval[1], \";\", interval[2], \")\")"
   ]
  },
  {
   "cell_type": "markdown",
   "metadata": {},
   "source": [
    "### у всех коэффициентов 0 не входит в доверительный интервал, значит можно отвергнуть гипотезу о том, что какой-то из них равен 0"
   ]
  },
  {
   "cell_type": "code",
   "execution_count": 4,
   "metadata": {},
   "outputs": [
    {
     "data": {
      "text/html": [
       "<table>\n",
       "<thead><tr><th scope=col>fit</th><th scope=col>lwr</th><th scope=col>upr</th></tr></thead>\n",
       "<tbody>\n",
       "\t<tr><td>606.1209</td><td>550.7026</td><td>661.5392</td></tr>\n",
       "</tbody>\n",
       "</table>\n"
      ],
      "text/latex": [
       "\\begin{tabular}{r|lll}\n",
       " fit & lwr & upr\\\\\n",
       "\\hline\n",
       "\t 606.1209 & 550.7026 & 661.5392\\\\\n",
       "\\end{tabular}\n"
      ],
      "text/markdown": [
       "\n",
       "| fit | lwr | upr |\n",
       "|---|---|---|\n",
       "| 606.1209 | 550.7026 | 661.5392 |\n",
       "\n"
      ],
      "text/plain": [
       "  fit      lwr      upr     \n",
       "1 606.1209 550.7026 661.5392"
      ]
     },
     "metadata": {},
     "output_type": "display_data"
    }
   ],
   "source": [
    "new.data = data.frame(law = 1, PetrolPrice = 0.11)\n",
    "predict(model, new.data, interval = \"confidence\")"
   ]
  }
 ],
 "metadata": {
  "kernelspec": {
   "display_name": "R",
   "language": "R",
   "name": "ir"
  },
  "language_info": {
   "codemirror_mode": "r",
   "file_extension": ".r",
   "mimetype": "text/x-r-source",
   "name": "R",
   "pygments_lexer": "r",
   "version": "3.6.1"
  }
 },
 "nbformat": 4,
 "nbformat_minor": 4
}

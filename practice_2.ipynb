{
 "cells": [
  {
   "cell_type": "code",
   "execution_count": 8,
   "metadata": {},
   "outputs": [],
   "source": [
    "library(lmtest)\n",
    "library(car)\n",
    "data = Seatbelts\n",
    "\n",
    "# front - law, kms, PetrolPrice"
   ]
  },
  {
   "cell_type": "code",
   "execution_count": 2,
   "metadata": {},
   "outputs": [
    {
     "data": {
      "text/plain": [
       "\n",
       "Call:\n",
       "lm(formula = front ~ law + PetrolPrice + kms, data = data)\n",
       "\n",
       "Coefficients:\n",
       "(Intercept)          law  PetrolPrice          kms  \n",
       "  1.432e+03   -2.206e+02   -5.381e+03   -7.485e-04  \n"
      ]
     },
     "metadata": {},
     "output_type": "display_data"
    },
    {
     "data": {
      "text/plain": [
       "\n",
       "Call:\n",
       "lm(formula = front ~ law + PetrolPrice + kms, data = data)\n",
       "\n",
       "Residuals:\n",
       "    Min      1Q  Median      3Q     Max \n",
       "-322.35  -86.52   -0.09   91.61  386.34 \n",
       "\n",
       "Coefficients:\n",
       "              Estimate Std. Error t value Pr(>|t|)    \n",
       "(Intercept)  1.432e+03  9.415e+01  15.215  < 2e-16 ***\n",
       "law         -2.206e+02  3.490e+01  -6.320 1.85e-09 ***\n",
       "PetrolPrice -5.381e+03  8.806e+02  -6.111 5.60e-09 ***\n",
       "kms         -7.485e-04  3.855e-03  -0.194    0.846    \n",
       "---\n",
       "Signif. codes:  0 '***' 0.001 '**' 0.01 '*' 0.05 '.' 0.1 ' ' 1\n",
       "\n",
       "Residual standard error: 132.4 on 188 degrees of freedom\n",
       "Multiple R-squared:  0.4369,\tAdjusted R-squared:  0.4279 \n",
       "F-statistic: 48.63 on 3 and 188 DF,  p-value: < 2.2e-16\n"
      ]
     },
     "metadata": {},
     "output_type": "display_data"
    },
    {
     "data": {
      "text/html": [
       "<dl class=dl-horizontal>\n",
       "\t<dt>law</dt>\n",
       "\t\t<dd>1.40582098234236</dd>\n",
       "\t<dt>PetrolPrice</dt>\n",
       "\t\t<dd>1.25205299912645</dd>\n",
       "\t<dt>kms</dt>\n",
       "\t\t<dd>1.39714536732021</dd>\n",
       "</dl>\n"
      ],
      "text/latex": [
       "\\begin{description*}\n",
       "\\item[law] 1.40582098234236\n",
       "\\item[PetrolPrice] 1.25205299912645\n",
       "\\item[kms] 1.39714536732021\n",
       "\\end{description*}\n"
      ],
      "text/markdown": [
       "law\n",
       ":   1.40582098234236PetrolPrice\n",
       ":   1.25205299912645kms\n",
       ":   1.39714536732021\n",
       "\n"
      ],
      "text/plain": [
       "        law PetrolPrice         kms \n",
       "   1.405821    1.252053    1.397145 "
      ]
     },
     "metadata": {},
     "output_type": "display_data"
    }
   ],
   "source": [
    "model <- lm(front ~ law +  PetrolPrice + kms, data)\n",
    "model\n",
    "summary(model)\n",
    "vif(model)"
   ]
  },
  {
   "cell_type": "markdown",
   "metadata": {},
   "source": [
    "### VIF значение для всех регрессеров малы, значит регрессоры не зависят друг от друга. p-значение для kms большое. попробуем его исключить и посмотрим как изменится R^2"
   ]
  },
  {
   "cell_type": "code",
   "execution_count": 3,
   "metadata": {},
   "outputs": [
    {
     "data": {
      "text/plain": [
       "\n",
       "Call:\n",
       "lm(formula = front ~ law + PetrolPrice, data = data)\n",
       "\n",
       "Coefficients:\n",
       "(Intercept)          law  PetrolPrice  \n",
       "     1425.8       -223.3      -5422.3  \n"
      ]
     },
     "metadata": {},
     "output_type": "display_data"
    },
    {
     "data": {
      "text/plain": [
       "\n",
       "Call:\n",
       "lm(formula = front ~ law + PetrolPrice, data = data)\n",
       "\n",
       "Residuals:\n",
       "    Min      1Q  Median      3Q     Max \n",
       "-320.77  -87.05    0.08   92.10  388.85 \n",
       "\n",
       "Coefficients:\n",
       "            Estimate Std. Error t value Pr(>|t|)    \n",
       "(Intercept)  1425.84      87.47  16.301  < 2e-16 ***\n",
       "law          -223.27      31.89  -7.000 4.32e-11 ***\n",
       "PetrolPrice -5422.29     852.80  -6.358 1.50e-09 ***\n",
       "---\n",
       "Signif. codes:  0 '***' 0.001 '**' 0.01 '*' 0.05 '.' 0.1 ' ' 1\n",
       "\n",
       "Residual standard error: 132.1 on 189 degrees of freedom\n",
       "Multiple R-squared:  0.4368,\tAdjusted R-squared:  0.4309 \n",
       "F-statistic: 73.29 on 2 and 189 DF,  p-value: < 2.2e-16\n"
      ]
     },
     "metadata": {},
     "output_type": "display_data"
    }
   ],
   "source": [
    "model_2 <- lm(front ~ law +  PetrolPrice, data)\n",
    "model_2\n",
    "summary(model_2)"
   ]
  },
  {
   "cell_type": "markdown",
   "metadata": {},
   "source": [
    "### R^2 практически не изменилась, но все еще мало. Попробуем добавить попарные произведения и логарифмы регрессоров. Вводить квадрат law нет смысла, т.к law = law^2."
   ]
  },
  {
   "cell_type": "code",
   "execution_count": 4,
   "metadata": {},
   "outputs": [
    {
     "data": {
      "text/plain": [
       "\n",
       "Call:\n",
       "lm(formula = front ~ law + I(law * PetrolPrice) + I(law * kms) + \n",
       "    PetrolPrice + kms + I(log(PetrolPrice)) + I(log(kms)) + I(kms * \n",
       "    PetrolPrice) + I(kms * kms) + I(PetrolPrice * PetrolPrice), \n",
       "    data = data)\n",
       "\n",
       "Coefficients:\n",
       "                 (Intercept)                           law  \n",
       "                   9.126e+04                    -1.698e+03  \n",
       "        I(law * PetrolPrice)                  I(law * kms)  \n",
       "                   1.219e+04                     1.222e-03  \n",
       "                 PetrolPrice                           kms  \n",
       "                  -5.076e+05                    -2.267e-01  \n",
       "         I(log(PetrolPrice))                   I(log(kms))  \n",
       "                   2.572e+04                     1.006e+03  \n",
       "        I(kms * PetrolPrice)                  I(kms * kms)  \n",
       "                   3.485e-01                     4.152e-06  \n",
       "I(PetrolPrice * PetrolPrice)  \n",
       "                   1.187e+06  \n"
      ]
     },
     "metadata": {},
     "output_type": "display_data"
    },
    {
     "data": {
      "text/plain": [
       "\n",
       "Call:\n",
       "lm(formula = front ~ law + I(law * PetrolPrice) + I(law * kms) + \n",
       "    PetrolPrice + kms + I(log(PetrolPrice)) + I(log(kms)) + I(kms * \n",
       "    PetrolPrice) + I(kms * kms) + I(PetrolPrice * PetrolPrice), \n",
       "    data = data)\n",
       "\n",
       "Residuals:\n",
       "    Min      1Q  Median      3Q     Max \n",
       "-349.71  -82.25   -7.07   81.95  349.23 \n",
       "\n",
       "Coefficients:\n",
       "                               Estimate Std. Error t value Pr(>|t|)\n",
       "(Intercept)                   9.126e+04  7.733e+04   1.180    0.239\n",
       "law                          -1.698e+03  1.724e+03  -0.984    0.326\n",
       "I(law * PetrolPrice)          1.219e+04  1.477e+04   0.825    0.410\n",
       "I(law * kms)                  1.222e-03  2.342e-02   0.052    0.958\n",
       "PetrolPrice                  -5.076e+05  3.668e+05  -1.384    0.168\n",
       "kms                          -2.267e-01  3.673e-01  -0.617    0.538\n",
       "I(log(PetrolPrice))           2.572e+04  1.890e+04   1.361    0.175\n",
       "I(log(kms))                   1.006e+03  2.552e+03   0.394    0.694\n",
       "I(kms * PetrolPrice)          3.485e-01  3.987e-01   0.874    0.383\n",
       "I(kms * kms)                  4.152e-06  6.887e-06   0.603    0.547\n",
       "I(PetrolPrice * PetrolPrice)  1.187e+06  8.770e+05   1.354    0.177\n",
       "\n",
       "Residual standard error: 131.7 on 181 degrees of freedom\n",
       "Multiple R-squared:  0.4637,\tAdjusted R-squared:  0.434 \n",
       "F-statistic: 15.65 on 10 and 181 DF,  p-value: < 2.2e-16\n"
      ]
     },
     "metadata": {},
     "output_type": "display_data"
    }
   ],
   "source": [
    "model <- lm(front ~ law + I(law * PetrolPrice) + I(law * kms) + PetrolPrice + kms + I(log(PetrolPrice)) + I(log(kms)) + I(kms*PetrolPrice) + I(kms*kms) + I(PetrolPrice*PetrolPrice), data)\n",
    "model\n",
    "summary(model)"
   ]
  },
  {
   "cell_type": "code",
   "execution_count": 5,
   "metadata": {},
   "outputs": [
    {
     "data": {
      "text/plain": [
       "\n",
       "Call:\n",
       "lm(formula = front ~ law + I(law * PetrolPrice) + PetrolPrice + \n",
       "    kms + I(log(PetrolPrice)) + I(log(kms)) + I(kms * PetrolPrice) + \n",
       "    I(kms * kms) + I(PetrolPrice * PetrolPrice), data = data)\n",
       "\n",
       "Coefficients:\n",
       "                 (Intercept)                           law  \n",
       "                   9.076e+04                    -1.685e+03  \n",
       "        I(law * PetrolPrice)                   PetrolPrice  \n",
       "                   1.228e+04                    -5.076e+05  \n",
       "                         kms           I(log(PetrolPrice))  \n",
       "                  -2.367e-01                     2.572e+04  \n",
       "                 I(log(kms))          I(kms * PetrolPrice)  \n",
       "                   1.070e+03                     3.461e-01  \n",
       "                I(kms * kms)  I(PetrolPrice * PetrolPrice)  \n",
       "                   4.350e-06                     1.187e+06  \n"
      ]
     },
     "metadata": {},
     "output_type": "display_data"
    },
    {
     "data": {
      "text/plain": [
       "\n",
       "Call:\n",
       "lm(formula = front ~ law + I(law * PetrolPrice) + PetrolPrice + \n",
       "    kms + I(log(PetrolPrice)) + I(log(kms)) + I(kms * PetrolPrice) + \n",
       "    I(kms * kms) + I(PetrolPrice * PetrolPrice), data = data)\n",
       "\n",
       "Residuals:\n",
       "    Min      1Q  Median      3Q     Max \n",
       "-349.82  -82.20   -7.58   81.87  349.00 \n",
       "\n",
       "Coefficients:\n",
       "                               Estimate Std. Error t value Pr(>|t|)\n",
       "(Intercept)                   9.076e+04  7.652e+04   1.186    0.237\n",
       "law                          -1.685e+03  1.704e+03  -0.989    0.324\n",
       "I(law * PetrolPrice)          1.228e+04  1.464e+04   0.839    0.403\n",
       "PetrolPrice                  -5.076e+05  3.658e+05  -1.387    0.167\n",
       "kms                          -2.367e-01  3.127e-01  -0.757    0.450\n",
       "I(log(PetrolPrice))           2.572e+04  1.885e+04   1.365    0.174\n",
       "I(log(kms))                   1.070e+03  2.232e+03   0.479    0.632\n",
       "I(kms * PetrolPrice)          3.461e-01  3.949e-01   0.876    0.382\n",
       "I(kms * kms)                  4.350e-06  5.730e-06   0.759    0.449\n",
       "I(PetrolPrice * PetrolPrice)  1.187e+06  8.746e+05   1.357    0.176\n",
       "\n",
       "Residual standard error: 131.4 on 182 degrees of freedom\n",
       "Multiple R-squared:  0.4637,\tAdjusted R-squared:  0.4371 \n",
       "F-statistic: 17.48 on 9 and 182 DF,  p-value: < 2.2e-16\n"
      ]
     },
     "metadata": {},
     "output_type": "display_data"
    }
   ],
   "source": [
    "model <- lm(front ~ law + I(law * PetrolPrice) + PetrolPrice + kms + I(log(PetrolPrice)) + I(log(kms)) + I(kms*PetrolPrice) + I(kms*kms) + I(PetrolPrice*PetrolPrice), data)\n",
    "model\n",
    "summary(model)"
   ]
  },
  {
   "cell_type": "code",
   "execution_count": 6,
   "metadata": {},
   "outputs": [
    {
     "data": {
      "text/plain": [
       "\n",
       "Call:\n",
       "lm(formula = front ~ law + I(law * PetrolPrice) + PetrolPrice + \n",
       "    kms + I(log(PetrolPrice)) + I(kms * PetrolPrice) + I(kms * \n",
       "    kms) + I(PetrolPrice * PetrolPrice), data = data)\n",
       "\n",
       "Coefficients:\n",
       "                 (Intercept)                           law  \n",
       "                   1.056e+05                    -1.613e+03  \n",
       "        I(law * PetrolPrice)                   PetrolPrice  \n",
       "                   1.166e+04                    -5.409e+05  \n",
       "                         kms           I(log(PetrolPrice))  \n",
       "                  -8.810e-02                     2.734e+04  \n",
       "        I(kms * PetrolPrice)                  I(kms * kms)  \n",
       "                   3.999e-01                     1.660e-06  \n",
       "I(PetrolPrice * PetrolPrice)  \n",
       "                   1.268e+06  \n"
      ]
     },
     "metadata": {},
     "output_type": "display_data"
    },
    {
     "data": {
      "text/plain": [
       "\n",
       "Call:\n",
       "lm(formula = front ~ law + I(law * PetrolPrice) + PetrolPrice + \n",
       "    kms + I(log(PetrolPrice)) + I(kms * PetrolPrice) + I(kms * \n",
       "    kms) + I(PetrolPrice * PetrolPrice), data = data)\n",
       "\n",
       "Residuals:\n",
       "    Min      1Q  Median      3Q     Max \n",
       "-348.37  -81.59   -6.86   82.77  350.09 \n",
       "\n",
       "Coefficients:\n",
       "                               Estimate Std. Error t value Pr(>|t|)  \n",
       "(Intercept)                   1.056e+05  6.983e+04   1.512   0.1322  \n",
       "law                          -1.613e+03  1.693e+03  -0.952   0.3421  \n",
       "I(law * PetrolPrice)          1.166e+04  1.455e+04   0.801   0.4239  \n",
       "PetrolPrice                  -5.409e+05  3.584e+05  -1.509   0.1329  \n",
       "kms                          -8.810e-02  4.024e-02  -2.189   0.0299 *\n",
       "I(log(PetrolPrice))           2.734e+04  1.851e+04   1.477   0.1413  \n",
       "I(kms * PetrolPrice)          3.999e-01  3.778e-01   1.058   0.2912  \n",
       "I(kms * kms)                  1.660e-06  1.159e-06   1.432   0.1537  \n",
       "I(PetrolPrice * PetrolPrice)  1.268e+06  8.563e+05   1.481   0.1403  \n",
       "---\n",
       "Signif. codes:  0 '***' 0.001 '**' 0.01 '*' 0.05 '.' 0.1 ' ' 1\n",
       "\n",
       "Residual standard error: 131.1 on 183 degrees of freedom\n",
       "Multiple R-squared:  0.463,\tAdjusted R-squared:  0.4395 \n",
       "F-statistic: 19.72 on 8 and 183 DF,  p-value: < 2.2e-16\n"
      ]
     },
     "metadata": {},
     "output_type": "display_data"
    }
   ],
   "source": [
    "model <- lm(front ~ law + I(law * PetrolPrice) + PetrolPrice + kms + I(log(PetrolPrice)) + I(kms*PetrolPrice) + I(kms*kms) + I(PetrolPrice*PetrolPrice), data)\n",
    "model\n",
    "summary(model)"
   ]
  },
  {
   "cell_type": "code",
   "execution_count": 9,
   "metadata": {},
   "outputs": [
    {
     "data": {
      "text/plain": [
       "\n",
       "Call:\n",
       "lm(formula = front ~ law + PetrolPrice + kms + I(log(PetrolPrice)) + \n",
       "    I(kms * PetrolPrice) + I(kms * kms) + I(PetrolPrice * PetrolPrice), \n",
       "    data = data)\n",
       "\n",
       "Coefficients:\n",
       "                 (Intercept)                           law  \n",
       "                   1.086e+05                    -2.559e+02  \n",
       "                 PetrolPrice                           kms  \n",
       "                  -5.580e+05                    -9.140e-02  \n",
       "         I(log(PetrolPrice))          I(kms * PetrolPrice)  \n",
       "                   2.809e+04                     4.496e-01  \n",
       "                I(kms * kms)  I(PetrolPrice * PetrolPrice)  \n",
       "                   1.596e-06                     1.312e+06  \n"
      ]
     },
     "metadata": {},
     "output_type": "display_data"
    },
    {
     "data": {
      "text/plain": [
       "\n",
       "Call:\n",
       "lm(formula = front ~ law + PetrolPrice + kms + I(log(PetrolPrice)) + \n",
       "    I(kms * PetrolPrice) + I(kms * kms) + I(PetrolPrice * PetrolPrice), \n",
       "    data = data)\n",
       "\n",
       "Residuals:\n",
       "    Min      1Q  Median      3Q     Max \n",
       "-350.49  -87.29   -6.63   84.92  349.69 \n",
       "\n",
       "Coefficients:\n",
       "                               Estimate Std. Error t value Pr(>|t|)    \n",
       "(Intercept)                   1.086e+05  6.967e+04   1.559   0.1208    \n",
       "law                          -2.559e+02  3.836e+01  -6.672 2.88e-10 ***\n",
       "PetrolPrice                  -5.580e+05  3.574e+05  -1.561   0.1202    \n",
       "kms                          -9.140e-02  3.999e-02  -2.286   0.0234 *  \n",
       "I(log(PetrolPrice))           2.809e+04  1.846e+04   1.521   0.1299    \n",
       "I(kms * PetrolPrice)          4.496e-01  3.724e-01   1.207   0.2289    \n",
       "I(kms * kms)                  1.596e-06  1.155e-06   1.381   0.1688    \n",
       "I(PetrolPrice * PetrolPrice)  1.312e+06  8.537e+05   1.537   0.1261    \n",
       "---\n",
       "Signif. codes:  0 '***' 0.001 '**' 0.01 '*' 0.05 '.' 0.1 ' ' 1\n",
       "\n",
       "Residual standard error: 131 on 184 degrees of freedom\n",
       "Multiple R-squared:  0.4611,\tAdjusted R-squared:  0.4406 \n",
       "F-statistic: 22.49 on 7 and 184 DF,  p-value: < 2.2e-16\n"
      ]
     },
     "metadata": {},
     "output_type": "display_data"
    }
   ],
   "source": [
    "model <- lm(front ~ law + PetrolPrice + kms + I(log(PetrolPrice)) + I(kms*PetrolPrice) + I(kms*kms) + I(PetrolPrice*PetrolPrice), data)\n",
    "model\n",
    "summary(model)"
   ]
  },
  {
   "cell_type": "markdown",
   "metadata": {},
   "source": [
    "### Судя по R^2 зависимость front ~ law + PetrolPrice + kms + log(PetrolPrice) + kms*PetrolPrice + kms^2 + PetrolPrice^2 даёт лучший показатель "
   ]
  }
 ],
 "metadata": {
  "kernelspec": {
   "display_name": "R",
   "language": "R",
   "name": "ir"
  },
  "language_info": {
   "codemirror_mode": "r",
   "file_extension": ".r",
   "mimetype": "text/x-r-source",
   "name": "R",
   "pygments_lexer": "r",
   "version": "3.6.1"
  }
 },
 "nbformat": 4,
 "nbformat_minor": 4
}

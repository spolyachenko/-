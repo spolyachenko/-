{
 "cells": [
  {
   "cell_type": "code",
   "execution_count": 8,
   "metadata": {},
   "outputs": [],
   "source": [
    "library(lmtest)\n",
    "library(car)\n",
    "data = Seatbelts\n",
    "\n",
    "# front - law, kms, PetrolPrice"
   ]
  },
  {
   "cell_type": "code",
   "execution_count": 2,
   "metadata": {},
   "outputs": [
    {
     "data": {
      "text/plain": [
       "\n",
       "Call:\n",
       "lm(formula = front ~ law + PetrolPrice + kms, data = data)\n",
       "\n",
       "Coefficients:\n",
       "(Intercept)          law  PetrolPrice          kms  \n",
       "  1.432e+03   -2.206e+02   -5.381e+03   -7.485e-04  \n"
      ]
     },
     "metadata": {},
     "output_type": "display_data"
    },
    {
     "data": {
      "text/plain": [
       "\n",
       "Call:\n",
       "lm(formula = front ~ law + PetrolPrice + kms, data = data)\n",
       "\n",
       "Residuals:\n",
       "    Min      1Q  Median      3Q     Max \n",
       "-322.35  -86.52   -0.09   91.61  386.34 \n",
       "\n",
       "Coefficients:\n",
       "              Estimate Std. Error t value Pr(>|t|)    \n",
       "(Intercept)  1.432e+03  9.415e+01  15.215  < 2e-16 ***\n",
       "law         -2.206e+02  3.490e+01  -6.320 1.85e-09 ***\n",
       "PetrolPrice -5.381e+03  8.806e+02  -6.111 5.60e-09 ***\n",
       "kms         -7.485e-04  3.855e-03  -0.194    0.846    \n",
       "---\n",
       "Signif. codes:  0 '***' 0.001 '**' 0.01 '*' 0.05 '.' 0.1 ' ' 1\n",
       "\n",
       "Residual standard error: 132.4 on 188 degrees of freedom\n",
       "Multiple R-squared:  0.4369,\tAdjusted R-squared:  0.4279 \n",
       "F-statistic: 48.63 on 3 and 188 DF,  p-value: < 2.2e-16\n"
      ]
     },
     "metadata": {},
     "output_type": "display_data"
    },
    {
     "data": {
      "text/html": [
       "<dl class=dl-horizontal>\n",
       "\t<dt>law</dt>\n",
       "\t\t<dd>1.40582098234236</dd>\n",
       "\t<dt>PetrolPrice</dt>\n",
       "\t\t<dd>1.25205299912645</dd>\n",
       "\t<dt>kms</dt>\n",
       "\t\t<dd>1.39714536732021</dd>\n",
       "</dl>\n"
      ],
      "text/latex": [
       "\\begin{description*}\n",
       "\\item[law] 1.40582098234236\n",
       "\\item[PetrolPrice] 1.25205299912645\n",
       "\\item[kms] 1.39714536732021\n",
       "\\end{description*}\n"
      ],
      "text/markdown": [
       "law\n",
       ":   1.40582098234236PetrolPrice\n",
       ":   1.25205299912645kms\n",
       ":   1.39714536732021\n",
       "\n"
      ],
      "text/plain": [
       "        law PetrolPrice         kms \n",
       "   1.405821    1.252053    1.397145 "
      ]
     },
     "metadata": {},
     "output_type": "display_data"
    }
   ],
   "source": [
    "model <- lm(front ~ law +  PetrolPrice + kms, data)\n",
    "model\n",
    "summary(model)\n",
    "vif(model)"
   ]
  },
  {
   "cell_type": "markdown",
   "metadata": {},
   "source": [
    "### VIF значение для всех регрессеров малы, значит регрессоры не зависят друг от друга. p-значение для kms большое. попробуем его исключить и посмотрим как изменится R^2"
   ]
  },
  {
   "cell_type": "code",
   "execution_count": 3,
   "metadata": {},
   "outputs": [
    {
     "data": {
      "text/plain": [
       "\n",
       "Call:\n",
       "lm(formula = front ~ law + PetrolPrice, data = data)\n",
       "\n",
       "Coefficients:\n",
       "(Intercept)          law  PetrolPrice  \n",
       "     1425.8       -223.3      -5422.3  \n"
      ]
     },
     "metadata": {},
     "output_type": "display_data"
    },
    {
     "data": {
      "text/plain": [
       "\n",
       "Call:\n",
       "lm(formula = front ~ law + PetrolPrice, data = data)\n",
       "\n",
       "Residuals:\n",
       "    Min      1Q  Median      3Q     Max \n",
       "-320.77  -87.05    0.08   92.10  388.85 \n",
       "\n",
       "Coefficients:\n",
       "            Estimate Std. Error t value Pr(>|t|)    \n",
       "(Intercept)  1425.84      87.47  16.301  < 2e-16 ***\n",
       "law          -223.27      31.89  -7.000 4.32e-11 ***\n",
       "PetrolPrice -5422.29     852.80  -6.358 1.50e-09 ***\n",
       "---\n",
       "Signif. codes:  0 '***' 0.001 '**' 0.01 '*' 0.05 '.' 0.1 ' ' 1\n",
       "\n",
       "Residual standard error: 132.1 on 189 degrees of freedom\n",
       "Multiple R-squared:  0.4368,\tAdjusted R-squared:  0.4309 \n",
       "F-statistic: 73.29 on 2 and 189 DF,  p-value: < 2.2e-16\n"
      ]
     },
     "metadata": {},
     "output_type": "display_data"
    }
   ],
   "source": [
    "model_2 <- lm(front ~ law +  PetrolPrice, data)\n",
    "model_2\n",
    "summary(model_2)"
   ]
  },
  {
   "cell_type": "markdown",
   "metadata": {},
   "source": [
    "### R^2 практически не изменилась, но все еще мало. Попробуем добавить попарные произведения и логарифмы регрессоров. Вводить квадрат law нет смысла, т.к law = law^2."
   ]
  },
  {
   "cell_type": "code",
   "execution_count": 4,
   "metadata": {},
   "outputs": [
    {
     "data": {
      "text/plain": [
       "\n",
       "Call:\n",
       "lm(formula = front ~ law + I(log(PetrolPrice)), data = data)\n",
       "\n",
       "Coefficients:\n",
       "        (Intercept)                  law  I(log(PetrolPrice))  \n",
       "             -381.3               -225.4               -547.7  \n"
      ]
     },
     "metadata": {},
     "output_type": "display_data"
    },
    {
     "data": {
      "text/plain": [
       "\n",
       "Call:\n",
       "lm(formula = front ~ law + I(log(PetrolPrice)), data = data)\n",
       "\n",
       "Residuals:\n",
       "    Min      1Q  Median      3Q     Max \n",
       "-323.62  -86.74    1.26   92.45  391.65 \n",
       "\n",
       "Coefficients:\n",
       "                    Estimate Std. Error t value Pr(>|t|)    \n",
       "(Intercept)          -381.35     198.52  -1.921   0.0562 .  \n",
       "law                  -225.40      31.81  -7.087 2.65e-11 ***\n",
       "I(log(PetrolPrice))  -547.74      86.54  -6.329 1.75e-09 ***\n",
       "---\n",
       "Signif. codes:  0 '***' 0.001 '**' 0.01 '*' 0.05 '.' 0.1 ' ' 1\n",
       "\n",
       "Residual standard error: 132.2 on 189 degrees of freedom\n",
       "Multiple R-squared:  0.4359,\tAdjusted R-squared:  0.4299 \n",
       "F-statistic: 73.03 on 2 and 189 DF,  p-value: < 2.2e-16\n"
      ]
     },
     "metadata": {},
     "output_type": "display_data"
    }
   ],
   "source": [
    "model_3 <- lm(front ~ law + I(log(PetrolPrice)), data)\n",
    "model_3\n",
    "summary(model_3)"
   ]
  },
  {
   "cell_type": "code",
   "execution_count": 5,
   "metadata": {},
   "outputs": [
    {
     "data": {
      "text/plain": [
       "\n",
       "Call:\n",
       "lm(formula = front ~ law + I(PetrolPrice^2), data = data)\n",
       "\n",
       "Coefficients:\n",
       "     (Intercept)               law  I(PetrolPrice^2)  \n",
       "          1150.7            -222.1          -26352.6  \n"
      ]
     },
     "metadata": {},
     "output_type": "display_data"
    },
    {
     "data": {
      "text/plain": [
       "\n",
       "Call:\n",
       "lm(formula = front ~ law + I(PetrolPrice^2), data = data)\n",
       "\n",
       "Residuals:\n",
       "    Min      1Q  Median      3Q     Max \n",
       "-318.96  -87.52   -2.49   90.10  386.69 \n",
       "\n",
       "Coefficients:\n",
       "                  Estimate Std. Error t value Pr(>|t|)    \n",
       "(Intercept)        1150.68      44.83  25.666  < 2e-16 ***\n",
       "law                -222.05      31.98  -6.943 6.00e-11 ***\n",
       "I(PetrolPrice^2) -26352.57    4150.80  -6.349 1.57e-09 ***\n",
       "---\n",
       "Signif. codes:  0 '***' 0.001 '**' 0.01 '*' 0.05 '.' 0.1 ' ' 1\n",
       "\n",
       "Residual standard error: 132.1 on 189 degrees of freedom\n",
       "Multiple R-squared:  0.4365,\tAdjusted R-squared:  0.4306 \n",
       "F-statistic: 73.21 on 2 and 189 DF,  p-value: < 2.2e-16\n"
      ]
     },
     "metadata": {},
     "output_type": "display_data"
    }
   ],
   "source": [
    "model_4 <- lm(front ~ law + I(PetrolPrice^2), data)\n",
    "model_4\n",
    "summary(model_4)"
   ]
  },
  {
   "cell_type": "code",
   "execution_count": 6,
   "metadata": {},
   "outputs": [
    {
     "data": {
      "text/plain": [
       "\n",
       "Call:\n",
       "lm(formula = front ~ law + I(PetrolPrice * law), data = data)\n",
       "\n",
       "Coefficients:\n",
       "         (Intercept)                   law  I(PetrolPrice * law)  \n",
       "               873.5               -1354.2                9028.7  \n"
      ]
     },
     "metadata": {},
     "output_type": "display_data"
    },
    {
     "data": {
      "text/plain": [
       "\n",
       "Call:\n",
       "lm(formula = front ~ law + I(PetrolPrice * law), data = data)\n",
       "\n",
       "Residuals:\n",
       "    Min      1Q  Median      3Q     Max \n",
       "-306.46  -99.49  -13.11   89.62  425.54 \n",
       "\n",
       "Coefficients:\n",
       "                     Estimate Std. Error t value Pr(>|t|)    \n",
       "(Intercept)            873.46      11.19  78.086   <2e-16 ***\n",
       "law                  -1354.21    1834.94  -0.738    0.461    \n",
       "I(PetrolPrice * law)  9028.73   15750.12   0.573    0.567    \n",
       "---\n",
       "Signif. codes:  0 '***' 0.001 '**' 0.01 '*' 0.05 '.' 0.1 ' ' 1\n",
       "\n",
       "Residual standard error: 145.4 on 189 degrees of freedom\n",
       "Multiple R-squared:  0.3175,\tAdjusted R-squared:  0.3103 \n",
       "F-statistic: 43.97 on 2 and 189 DF,  p-value: < 2.2e-16\n"
      ]
     },
     "metadata": {},
     "output_type": "display_data"
    }
   ],
   "source": [
    "model_5 <- lm(front ~ law + I(PetrolPrice*law), data)\n",
    "model_5\n",
    "summary(model_5)"
   ]
  },
  {
   "cell_type": "markdown",
   "metadata": {},
   "source": [
    "### Судя по R^2 зависимость front ~ law + PetrolPrice даёт лучший показатель "
   ]
  }
 ],
 "metadata": {
  "kernelspec": {
   "display_name": "R",
   "language": "R",
   "name": "ir"
  },
  "language_info": {
   "codemirror_mode": "r",
   "file_extension": ".r",
   "mimetype": "text/x-r-source",
   "name": "R",
   "pygments_lexer": "r",
   "version": "3.6.1"
  }
 },
 "nbformat": 4,
 "nbformat_minor": 4
}
